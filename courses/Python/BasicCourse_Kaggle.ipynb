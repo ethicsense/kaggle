{
 "cells": [
  {
   "cell_type": "markdown",
   "id": "c94d491b",
   "metadata": {},
   "source": [
    "### 연산자\n",
    "\n",
    "* // : 나누기 몫만 출력\n",
    "* % : 나누기 나머지 출력\n",
    "* ** : 제곱"
   ]
  },
  {
   "cell_type": "code",
   "execution_count": 7,
   "id": "635b8c2a",
   "metadata": {},
   "outputs": [
    {
     "name": "stdout",
     "output_type": "stream",
     "text": [
      "0.6666666666666666\n",
      "0\n",
      "2\n",
      "8\n"
     ]
    }
   ],
   "source": [
    "a = 2\n",
    "b = 3\n",
    "\n",
    "print(a / b)\n",
    "print(a // b)\n",
    "print(a % b)\n",
    "print(a ** b)"
   ]
  },
  {
   "cell_type": "code",
   "execution_count": 8,
   "id": "dee81c4e",
   "metadata": {},
   "outputs": [
    {
     "name": "stdout",
     "output_type": "stream",
     "text": [
      "Help on built-in function round in module builtins:\n",
      "\n",
      "round(number, ndigits=None)\n",
      "    Round a number to a given precision in decimal digits.\n",
      "    \n",
      "    The return value is an integer if ndigits is omitted or None.  Otherwise\n",
      "    the return value has the same type as the number.  ndigits may be negative.\n",
      "\n"
     ]
    }
   ],
   "source": [
    "help(round)\n",
    "\n",
    "# 해당 funciton의 header(parameters 종류와 자료형 등),\n",
    "# 그리고 개략적인 설명 출력\n",
    "\n",
    "# 함수에 인자를 전달하는 형태로 help를 사용할 경우 ( ex) help(round(2.10)) )\n",
    "# 내부 함수를 동작시키고 그 결과값에 대해 help가 동작하여 출력됨"
   ]
  },
  {
   "cell_type": "markdown",
   "id": "d78f5b77",
   "metadata": {},
   "source": [
    "### docstring\n",
    "선언한 함수의 기능을 \"\"\", \"\"\" 사이에 주석으로 선언하면 help로 해당 함수를 선언하였을 때 description으로 해당 주석을 출력함"
   ]
  },
  {
   "cell_type": "code",
   "execution_count": 10,
   "id": "ba6e6e31",
   "metadata": {},
   "outputs": [
    {
     "name": "stdout",
     "output_type": "stream",
     "text": [
      "Help on function test in module __main__:\n",
      "\n",
      "test(a, b)\n",
      "    help를 사용하면 해당 docstring을 출력합니다.\n",
      "\n"
     ]
    }
   ],
   "source": [
    "def test(a, b):\n",
    "    \"\"\"\n",
    "    help를 사용하면 해당 docstring을 출력합니다.\n",
    "    \"\"\"\n",
    "    pass\n",
    "\n",
    "help(test)"
   ]
  },
  {
   "cell_type": "code",
   "execution_count": 11,
   "id": "d3da80bc",
   "metadata": {},
   "outputs": [
    {
     "name": "stdout",
     "output_type": "stream",
     "text": [
      "Help on function eye in module numpy:\n",
      "\n",
      "eye(N, M=None, k=0, dtype=<class 'float'>, order='C', *, like=None)\n",
      "    Return a 2-D array with ones on the diagonal and zeros elsewhere.\n",
      "    \n",
      "    Parameters\n",
      "    ----------\n",
      "    N : int\n",
      "      Number of rows in the output.\n",
      "    M : int, optional\n",
      "      Number of columns in the output. If None, defaults to `N`.\n",
      "    k : int, optional\n",
      "      Index of the diagonal: 0 (the default) refers to the main diagonal,\n",
      "      a positive value refers to an upper diagonal, and a negative value\n",
      "      to a lower diagonal.\n",
      "    dtype : data-type, optional\n",
      "      Data-type of the returned array.\n",
      "    order : {'C', 'F'}, optional\n",
      "        Whether the output should be stored in row-major (C-style) or\n",
      "        column-major (Fortran-style) order in memory.\n",
      "    \n",
      "        .. versionadded:: 1.14.0\n",
      "    like : array_like\n",
      "        Reference object to allow the creation of arrays which are not\n",
      "        NumPy arrays. If an array-like passed in as ``like`` supports\n",
      "        the ``__array_function__`` protocol, the result will be defined\n",
      "        by it. In this case, it ensures the creation of an array object\n",
      "        compatible with that passed in via this argument.\n",
      "    \n",
      "        .. note::\n",
      "            The ``like`` keyword is an experimental feature pending on\n",
      "            acceptance of :ref:`NEP 35 <NEP35>`.\n",
      "    \n",
      "        .. versionadded:: 1.20.0\n",
      "    \n",
      "    Returns\n",
      "    -------\n",
      "    I : ndarray of shape (N,M)\n",
      "      An array where all elements are equal to zero, except for the `k`-th\n",
      "      diagonal, whose values are equal to one.\n",
      "    \n",
      "    See Also\n",
      "    --------\n",
      "    identity : (almost) equivalent function\n",
      "    diag : diagonal 2-D array from a 1-D array specified by the user.\n",
      "    \n",
      "    Examples\n",
      "    --------\n",
      "    >>> np.eye(2, dtype=int)\n",
      "    array([[1, 0],\n",
      "           [0, 1]])\n",
      "    >>> np.eye(3, k=1)\n",
      "    array([[0.,  1.,  0.],\n",
      "           [0.,  0.,  1.],\n",
      "           [0.,  0.,  0.]])\n",
      "\n"
     ]
    }
   ],
   "source": [
    "import numpy as np\n",
    "\n",
    "help(np.eye)"
   ]
  },
  {
   "cell_type": "code",
   "execution_count": 16,
   "id": "2a5f0363",
   "metadata": {},
   "outputs": [
    {
     "data": {
      "text/plain": [
       "3.14"
      ]
     },
     "execution_count": 16,
     "metadata": {},
     "output_type": "execute_result"
    }
   ],
   "source": [
    "round(3.141592, 2)"
   ]
  },
  {
   "cell_type": "code",
   "execution_count": null,
   "id": "2922dc6f",
   "metadata": {},
   "outputs": [],
   "source": []
  }
 ],
 "metadata": {
  "kernelspec": {
   "display_name": "Python 3",
   "language": "python",
   "name": "python3"
  },
  "language_info": {
   "codemirror_mode": {
    "name": "ipython",
    "version": 3
   },
   "file_extension": ".py",
   "mimetype": "text/x-python",
   "name": "python",
   "nbconvert_exporter": "python",
   "pygments_lexer": "ipython3",
   "version": "3.8.8"
  }
 },
 "nbformat": 4,
 "nbformat_minor": 5
}
